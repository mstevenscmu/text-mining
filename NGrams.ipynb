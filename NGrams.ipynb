{
 "cells": [
  {
   "cell_type": "code",
   "execution_count": 1,
   "metadata": {},
   "outputs": [],
   "source": [
    "from nltk import ngrams"
   ]
  },
  {
   "cell_type": "code",
   "execution_count": 2,
   "metadata": {},
   "outputs": [
    {
     "name": "stdout",
     "output_type": "stream",
     "text": [
      "('That', 'was')\n",
      "('was', 'unbelievable,')\n",
      "('unbelievable,', 'they')\n",
      "('they', 'scored')\n",
      "('scored', '50')\n",
      "('50', 'points')\n",
      "('points', 'on')\n",
      "('on', 'that')\n",
      "('that', 'jump.')\n"
     ]
    }
   ],
   "source": [
    "sentence = \"That was unbelievable, they scored 50 points on that jump.\"\n",
    "n = 2\n",
    "bigrams = ngrams(sentence.split(), n)\n",
    "for gram in bigrams:\n",
    "    print(gram)"
   ]
  },
  {
   "cell_type": "code",
   "execution_count": 3,
   "metadata": {},
   "outputs": [],
   "source": [
    "from nltk import RegexpParser"
   ]
  },
  {
   "cell_type": "code",
   "execution_count": 4,
   "metadata": {},
   "outputs": [],
   "source": [
    "chunkbigram = r\"\"\"\n",
    "    NA: {<NOUN><ADJ> }\n",
    "    AN: {<ADJ><NOUN> }\n",
    "    NN: {<NOUN><NOUN> }\n",
    "\"\"\"\n",
    "example = [\n",
    "    ('oh', 'INTJ'),\n",
    "    ('my', 'INTJ'),\n",
    "    ('god', 'INTJ'),\n",
    "    (',', 'PUNCT'),\n",
    "    ('the', 'DET'),\n",
    "    ('dark', 'ADJ'),\n",
    "    ('chocolate', 'NOUN'),\n",
    "    ('is', 'VERB'),\n",
    "    ('15', 'NUM'),\n",
    "    ('%', 'NOUN'),\n",
    "    ('of', 'ADP'),\n",
    "    ('today', 'NOUN')\n",
    "    \n",
    "]"
   ]
  },
  {
   "cell_type": "code",
   "execution_count": 5,
   "metadata": {},
   "outputs": [],
   "source": [
    "chunkparserbigram = RegexpParser(chunkbigram)"
   ]
  },
  {
   "cell_type": "code",
   "execution_count": 6,
   "metadata": {},
   "outputs": [],
   "source": [
    "chunked = chunkparserbigram.parse(example)"
   ]
  },
  {
   "cell_type": "code",
   "execution_count": 7,
   "metadata": {},
   "outputs": [
    {
     "name": "stdout",
     "output_type": "stream",
     "text": [
      "(S\n",
      "  oh/INTJ\n",
      "  my/INTJ\n",
      "  god/INTJ\n",
      "  ,/PUNCT\n",
      "  the/DET\n",
      "  (AN dark/ADJ chocolate/NOUN)\n",
      "  is/VERB\n",
      "  15/NUM\n",
      "  %/NOUN\n",
      "  of/ADP\n",
      "  today/NOUN)\n"
     ]
    }
   ],
   "source": [
    "print(chunked)"
   ]
  },
  {
   "cell_type": "code",
   "execution_count": 8,
   "metadata": {},
   "outputs": [
    {
     "name": "stdout",
     "output_type": "stream",
     "text": [
      "(S\n",
      "  oh/INTJ\n",
      "  my/INTJ\n",
      "  god/INTJ\n",
      "  ,/PUNCT\n",
      "  the/DET\n",
      "  (AN dark/ADJ chocolate/NOUN)\n",
      "  is/VERB\n",
      "  15/NUM\n",
      "  %/NOUN\n",
      "  of/ADP\n",
      "  today/NOUN)\n",
      "(AN dark/ADJ chocolate/NOUN)\n"
     ]
    }
   ],
   "source": [
    "for subtree in chunked.subtrees():\n",
    "    print(subtree)"
   ]
  },
  {
   "cell_type": "code",
   "execution_count": 9,
   "metadata": {},
   "outputs": [],
   "source": [
    "from nltk.corpus import inaugural"
   ]
  },
  {
   "cell_type": "code",
   "execution_count": 10,
   "metadata": {},
   "outputs": [],
   "source": [
    "from gensim.models.phrases import Phraser, Phrases"
   ]
  },
  {
   "cell_type": "code",
   "execution_count": 11,
   "metadata": {},
   "outputs": [],
   "source": [
    "all_words = [inaugural.words(x) for x in inaugural.fileids()]"
   ]
  },
  {
   "cell_type": "code",
   "execution_count": 12,
   "metadata": {},
   "outputs": [],
   "source": [
    "phrases = Phrases(all_words, min_count=100, threshold=10)"
   ]
  },
  {
   "cell_type": "code",
   "execution_count": 13,
   "metadata": {},
   "outputs": [],
   "source": [
    "bigram = Phraser(phrases)"
   ]
  },
  {
   "cell_type": "code",
   "execution_count": 14,
   "metadata": {},
   "outputs": [
    {
     "data": {
      "text/plain": [
       "['Finest', 'people', 'of', 'the', 'United_States']"
      ]
     },
     "execution_count": 14,
     "metadata": {},
     "output_type": "execute_result"
    }
   ],
   "source": [
    "bigram[[\"Finest\", \"people\", \"of\", \"the\", \"United\", \"States\"]]"
   ]
  },
  {
   "cell_type": "code",
   "execution_count": null,
   "metadata": {},
   "outputs": [],
   "source": []
  }
 ],
 "metadata": {
  "kernelspec": {
   "display_name": "Python 3",
   "language": "python",
   "name": "python3"
  },
  "language_info": {
   "codemirror_mode": {
    "name": "ipython",
    "version": 3
   },
   "file_extension": ".py",
   "mimetype": "text/x-python",
   "name": "python",
   "nbconvert_exporter": "python",
   "pygments_lexer": "ipython3",
   "version": "3.6.6"
  }
 },
 "nbformat": 4,
 "nbformat_minor": 2
}
