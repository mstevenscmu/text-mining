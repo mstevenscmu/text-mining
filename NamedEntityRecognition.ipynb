{
 "cells": [
  {
   "cell_type": "code",
   "execution_count": 1,
   "metadata": {},
   "outputs": [
    {
     "name": "stderr",
     "output_type": "stream",
     "text": [
      "/Users/mstevens/anaconda/envs/textminingwithpython36/lib/python3.6/importlib/_bootstrap.py:219: RuntimeWarning: numpy.dtype size changed, may indicate binary incompatibility. Expected 96, got 88\n",
      "  return f(*args, **kwds)\n",
      "/Users/mstevens/anaconda/envs/textminingwithpython36/lib/python3.6/importlib/_bootstrap.py:219: RuntimeWarning: numpy.ufunc size changed, may indicate binary incompatibility. Expected 192, got 176\n",
      "  return f(*args, **kwds)\n",
      "/Users/mstevens/anaconda/envs/textminingwithpython36/lib/python3.6/importlib/_bootstrap.py:219: RuntimeWarning: numpy.dtype size changed, may indicate binary incompatibility. Expected 96, got 88\n",
      "  return f(*args, **kwds)\n",
      "/Users/mstevens/anaconda/envs/textminingwithpython36/lib/python3.6/importlib/_bootstrap.py:219: RuntimeWarning: numpy.ufunc size changed, may indicate binary incompatibility. Expected 192, got 176\n",
      "  return f(*args, **kwds)\n"
     ]
    }
   ],
   "source": [
    "import spacy\n",
    "from pprint import pprint\n",
    "nlp = spacy.load(\"en\")"
   ]
  },
  {
   "cell_type": "code",
   "execution_count": 2,
   "metadata": {},
   "outputs": [
    {
     "name": "stdout",
     "output_type": "stream",
     "text": [
      "[('Mark', 381), ('South Africa', 382), ('Google', 381)]\n"
     ]
    }
   ],
   "source": [
    "doc = nlp(\"Mark is working at the South Africa offices of Google\")\n",
    "pprint([(x.text, x.label) for x in doc.ents])"
   ]
  },
  {
   "cell_type": "code",
   "execution_count": 3,
   "metadata": {},
   "outputs": [
    {
     "name": "stdout",
     "output_type": "stream",
     "text": [
      "[('Donald', 378), ('Netherlands', 382), ('Google', 381)]\n"
     ]
    }
   ],
   "source": [
    "doc = nlp(\"Donald is working at the Netherlands offices of Google\")\n",
    "pprint([(x.text, x.label) for x in doc.ents])"
   ]
  },
  {
   "cell_type": "code",
   "execution_count": 4,
   "metadata": {},
   "outputs": [
    {
     "name": "stdout",
     "output_type": "stream",
     "text": [
      "[('Donald', 'B', 'PERSON'),\n",
      " ('is', 'O', ''),\n",
      " ('working', 'O', ''),\n",
      " ('at', 'O', ''),\n",
      " ('the', 'O', ''),\n",
      " ('Netherlands', 'B', 'GPE'),\n",
      " ('offices', 'O', ''),\n",
      " ('of', 'O', ''),\n",
      " ('Google', 'B', 'ORG')]\n"
     ]
    }
   ],
   "source": [
    "pprint([(x.text, x.ent_iob_, x.ent_type_) for x in doc])"
   ]
  },
  {
   "cell_type": "code",
   "execution_count": null,
   "metadata": {},
   "outputs": [],
   "source": []
  }
 ],
 "metadata": {
  "kernelspec": {
   "display_name": "Python 3",
   "language": "python",
   "name": "python3"
  },
  "language_info": {
   "codemirror_mode": {
    "name": "ipython",
    "version": 3
   },
   "file_extension": ".py",
   "mimetype": "text/x-python",
   "name": "python",
   "nbconvert_exporter": "python",
   "pygments_lexer": "ipython3",
   "version": "3.6.6"
  }
 },
 "nbformat": 4,
 "nbformat_minor": 2
}
